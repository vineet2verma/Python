{
 "cells": [
  {
   "cell_type": "code",
   "execution_count": null,
   "metadata": {},
   "outputs": [],
   "source": [
    "user_id = 'vineet2verma'\n",
    "pswd = 'pdgkpuikdinehjotaaa'"
   ]
  },
  {
   "cell_type": "code",
   "execution_count": 12,
   "metadata": {},
   "outputs": [],
   "source": [
    "import smtplib\n",
    "from email.mime.text import MIMEText\n",
    "from email.mime.multipart import MIMEMultipart\n",
    "from email.mime.image import MIMEImage\n",
    "from email.mime.base import MIMEBase\n",
    "from email import encoders\n",
    "import pandas as pd, time\n",
    "\n",
    "date_str = time.strftime(\"%d-%m-%Y %I:%M\")"
   ]
  },
  {
   "cell_type": "code",
   "execution_count": 13,
   "metadata": {},
   "outputs": [],
   "source": [
    "smtp = smtplib.SMTP('smtp.gmail.com', 587)\n",
    "smtp.ehlo()\n",
    "smtp.starttls()\n",
    "smtp.login(user_id, pswd)\n",
    "\n",
    "sender =  'vineet2verma@gmail.com'\n",
    "rec = 'amit2srivastav@gmail.com'\n",
    "\n",
    "msgRoot = MIMEMultipart('alternatives')\n",
    "msgRoot['Subject'] = 'SUBJECT HERE '\n",
    "msgRoot['From'] = sender\n",
    "msgRoot['To'] = rec"
   ]
  },
  {
   "cell_type": "code",
   "execution_count": 14,
   "metadata": {},
   "outputs": [],
   "source": [
    "# Attachment Section\n",
    "file1 = 'C:\\\\Users\\\\mmt9642\\\\Pictures\\\\Gommt_Image.png' \n",
    "attachment =  open(file1, \"rb\")\n",
    "attachment_package = MIMEBase('application','octet-stream')\n",
    "attachment_package.set_payload((attachment).read())\n",
    "encoders.encode_base64(attachment_package)\n",
    "attachment_package.add_header('Content-Disposition',\"attachment; filename= \"+ file1)\n",
    "msgRoot.attach(attachment_package)"
   ]
  },
  {
   "cell_type": "code",
   "execution_count": 15,
   "metadata": {},
   "outputs": [],
   "source": [
    "#  Data Here \n",
    "l1 = ['Vineet', 'Sumit', 'Poonam']\n",
    "l2 = ['Team 1', 'Team 2']"
   ]
  },
  {
   "cell_type": "code",
   "execution_count": 16,
   "metadata": {},
   "outputs": [],
   "source": [
    "# Mail Body with Style\n",
    "text_html = (\"\"\"\n",
    "<html>\n",
    "    <head></head>\n",
    "        <body>\n",
    "            {0}\n",
    "            <p><b>Hi {1} ,<b></p>\n",
    "            <br><b>Here is your Body Text You Can add Anything Here </b><br>\n",
    "            \n",
    "            Regards,<br>\n",
    "            {2}\n",
    "            \n",
    "        </body>\n",
    "</html>\n",
    "\"\"\").format( date_str, l1[1] , l2[0] )"
   ]
  },
  {
   "cell_type": "code",
   "execution_count": 17,
   "metadata": {},
   "outputs": [
    {
     "data": {
      "text/plain": [
       "(221,\n",
       " b'2.0.0 closing connection w125-20020a627b83000000b005741cb643bdsm6621164pfc.215 - gsmtp')"
      ]
     },
     "execution_count": 17,
     "metadata": {},
     "output_type": "execute_result"
    }
   ],
   "source": [
    "text = MIMEText(text_html,\"html\")\n",
    "msgRoot.attach(text)\n",
    "\n",
    "smtp.sendmail( msgRoot['From'], msgRoot['To'] , msgRoot.as_string() )\n",
    "smtp.quit()"
   ]
  }
 ],
 "metadata": {
  "kernelspec": {
   "display_name": "Python 3.10.4 64-bit",
   "language": "python",
   "name": "python3"
  },
  "language_info": {
   "codemirror_mode": {
    "name": "ipython",
    "version": 3
   },
   "file_extension": ".py",
   "mimetype": "text/x-python",
   "name": "python",
   "nbconvert_exporter": "python",
   "pygments_lexer": "ipython3",
   "version": "3.10.4"
  },
  "orig_nbformat": 4,
  "vscode": {
   "interpreter": {
    "hash": "84216416f713fe449acf0944f573fd276ab8b16e2fa17110c5ff5f76f4de89d5"
   }
  }
 },
 "nbformat": 4,
 "nbformat_minor": 2
}
