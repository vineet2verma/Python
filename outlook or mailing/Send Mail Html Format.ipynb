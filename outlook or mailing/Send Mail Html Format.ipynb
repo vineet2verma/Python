{
 "cells": [
  {
   "cell_type": "code",
   "execution_count": null,
   "metadata": {},
   "outputs": [],
   "source": [
    "user_id = 'vineet2verma'\n",
    "pswd = 'pdgkpuikdinehjot'"
   ]
  },
  {
   "cell_type": "code",
   "execution_count": 172,
   "metadata": {},
   "outputs": [
    {
     "name": "stdout",
     "output_type": "stream",
     "text": [
      "03-12-2022 04:34\n"
     ]
    }
   ],
   "source": [
    "import smtplib\n",
    "from email.mime.text import MIMEText\n",
    "from email.mime.multipart import MIMEMultipart\n",
    "from email.mime.image import MIMEImage\n",
    "from email.mime.base import MIMEBase\n",
    "from email import encoders\n",
    "import pandas as pd, time\n",
    "\n",
    "date_str = time.strftime(\"%d-%m-%Y %I:%M\")"
   ]
  },
  {
   "cell_type": "code",
   "execution_count": 173,
   "metadata": {},
   "outputs": [],
   "source": [
    "smtp = smtplib.SMTP('smtp.gmail.com', 587)\n",
    "smtp.ehlo()\n",
    "smtp.starttls()\n",
    "smtp.login(user_id, pswd)\n",
    "\n",
    "sender =  'vineet2verma@gmail.com'\n",
    "rec = 'amit2srivastav@gmail.com'\n",
    "\n",
    "msgRoot = MIMEMultipart('alternatives')\n",
    "msgRoot['Subject'] = 'SUBJECT HERE '\n",
    "msgRoot['From'] = sender\n",
    "msgRoot['To'] = rec"
   ]
  },
  {
   "cell_type": "code",
   "execution_count": null,
   "metadata": {},
   "outputs": [],
   "source": [
    "#  Data Here \n",
    "l1 = ['Vineet', 'Sumit', 'Poonam']\n",
    "l2 = ['Team 1', 'Team 2']"
   ]
  },
  {
   "cell_type": "code",
   "execution_count": 177,
   "metadata": {},
   "outputs": [],
   "source": [
    "# Mail Body with Style\n",
    "text_html = (\"\"\"\n",
    "<html>\n",
    "    <head></head>\n",
    "        <body>\n",
    "            {0}\n",
    "            <p><b>Hi {1} ,<b></p>\n",
    "            <br><b>Here is your Body Text You Can add Anything Here </b><br>\n",
    "            \n",
    "            Regards,<br>\n",
    "            {2}\n",
    "            \n",
    "        </body>\n",
    "</html>\n",
    "\"\"\").format( date_str, l1[1] , l2[0] )"
   ]
  },
  {
   "cell_type": "code",
   "execution_count": 175,
   "metadata": {},
   "outputs": [
    {
     "data": {
      "text/plain": [
       "(221,\n",
       " b'2.0.0 closing connection 184-20020a6206c1000000b0056bcb102e7bsm6526992pfg.68 - gsmtp')"
      ]
     },
     "execution_count": 175,
     "metadata": {},
     "output_type": "execute_result"
    }
   ],
   "source": [
    "text = MIMEText(text_html,\"html\")\n",
    "msgRoot.attach(text)\n",
    "\n",
    "smtp.sendmail( msgRoot['From'], msgRoot['To'] , msgRoot.as_string() )\n",
    "smtp.quit()"
   ]
  }
 ],
 "metadata": {
  "kernelspec": {
   "display_name": "Python 3.10.4 64-bit",
   "language": "python",
   "name": "python3"
  },
  "language_info": {
   "codemirror_mode": {
    "name": "ipython",
    "version": 3
   },
   "file_extension": ".py",
   "mimetype": "text/x-python",
   "name": "python",
   "nbconvert_exporter": "python",
   "pygments_lexer": "ipython3",
   "version": "3.10.4"
  },
  "orig_nbformat": 4,
  "vscode": {
   "interpreter": {
    "hash": "84216416f713fe449acf0944f573fd276ab8b16e2fa17110c5ff5f76f4de89d5"
   }
  }
 },
 "nbformat": 4,
 "nbformat_minor": 2
}
