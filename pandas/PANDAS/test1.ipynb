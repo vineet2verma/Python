{
 "cells": [
  {
   "cell_type": "code",
   "execution_count": 13,
   "metadata": {},
   "outputs": [],
   "source": [
    "import pandas as pd\n",
    "\n",
    "file = \"c:\\\\Users\\\\Owner\\\\Desktop\\\\testing heavy data\\\\3.1-data-sheet-udemy-courses-business-courses.csv\"\n",
    "df1 = pd.read_csv(file)"
   ]
  },
  {
   "cell_type": "code",
   "execution_count": 14,
   "metadata": {},
   "outputs": [
    {
     "name": "stdout",
     "output_type": "stream",
     "text": [
      "Index(['course_id', 'course_title', 'url', 'price', 'num_subscribers',\n",
      "       'num_reviews', 'num_lectures', 'level', 'Rating', 'content_duration',\n",
      "       'published_timestamp', 'subject'],\n",
      "      dtype='object')\n"
     ]
    }
   ],
   "source": [
    "print(df1.columns)"
   ]
  },
  {
   "cell_type": "code",
   "execution_count": 15,
   "metadata": {},
   "outputs": [
    {
     "data": {
      "text/html": [
       "<div>\n",
       "<style scoped>\n",
       "    .dataframe tbody tr th:only-of-type {\n",
       "        vertical-align: middle;\n",
       "    }\n",
       "\n",
       "    .dataframe tbody tr th {\n",
       "        vertical-align: top;\n",
       "    }\n",
       "\n",
       "    .dataframe thead th {\n",
       "        text-align: right;\n",
       "    }\n",
       "</style>\n",
       "<table border=\"1\" class=\"dataframe\">\n",
       "  <thead>\n",
       "    <tr style=\"text-align: right;\">\n",
       "      <th></th>\n",
       "      <th>course_id</th>\n",
       "      <th>course_title</th>\n",
       "      <th>url</th>\n",
       "      <th>price</th>\n",
       "      <th>num_subscribers</th>\n",
       "      <th>num_reviews</th>\n",
       "      <th>num_lectures</th>\n",
       "      <th>level</th>\n",
       "      <th>Rating</th>\n",
       "      <th>content_duration</th>\n",
       "      <th>published_timestamp</th>\n",
       "      <th>subject</th>\n",
       "    </tr>\n",
       "  </thead>\n",
       "  <tbody>\n",
       "    <tr>\n",
       "      <th>0</th>\n",
       "      <td>49798</td>\n",
       "      <td>Bitcoin or How I Learned to Stop Worrying and ...</td>\n",
       "      <td>https://www.udemy.com/bitcoin-or-how-i-learned...</td>\n",
       "      <td>$0</td>\n",
       "      <td>#65576</td>\n",
       "      <td>936</td>\n",
       "      <td>24</td>\n",
       "      <td>All Levels</td>\n",
       "      <td>0.56%</td>\n",
       "      <td>8.0</td>\n",
       "      <td>2013-04-20T02:25:22Z</td>\n",
       "      <td>Business Finance</td>\n",
       "    </tr>\n",
       "  </tbody>\n",
       "</table>\n",
       "</div>"
      ],
      "text/plain": [
       "   course_id                                       course_title  \\\n",
       "0      49798  Bitcoin or How I Learned to Stop Worrying and ...   \n",
       "\n",
       "                                                 url price num_subscribers  \\\n",
       "0  https://www.udemy.com/bitcoin-or-how-i-learned...    $0          #65576   \n",
       "\n",
       "   num_reviews  num_lectures       level Rating  content_duration  \\\n",
       "0          936            24  All Levels  0.56%               8.0   \n",
       "\n",
       "    published_timestamp           subject  \n",
       "0  2013-04-20T02:25:22Z  Business Finance  "
      ]
     },
     "execution_count": 15,
     "metadata": {},
     "output_type": "execute_result"
    }
   ],
   "source": [
    "df1.head(1)"
   ]
  },
  {
   "cell_type": "code",
   "execution_count": 81,
   "metadata": {},
   "outputs": [],
   "source": [
    "def remove_f(val):\n",
    "    val = val[1:]\n",
    "    return val\n",
    "def remmove_l(val):\n",
    "    val = val[:-1]\n",
    "    return val"
   ]
  },
  {
   "cell_type": "code",
   "execution_count": 82,
   "metadata": {},
   "outputs": [],
   "source": [
    "df1['num_subscribers'] = df1['num_subscribers'].apply(remove_f)\n",
    "df1['Rating']= df1['Rating'].apply(remmove_l)"
   ]
  },
  {
   "cell_type": "code",
   "execution_count": 84,
   "metadata": {},
   "outputs": [
    {
     "data": {
      "text/plain": [
       "0       0.56\n",
       "1       0.95\n",
       "2       0.91\n",
       "3       0.18\n",
       "4       0.37\n",
       "        ... \n",
       "1186    0.95\n",
       "1187    0.95\n",
       "1188    0.36\n",
       "1189    0.15\n",
       "1190    0.18\n",
       "Name: Rating, Length: 1191, dtype: object"
      ]
     },
     "execution_count": 84,
     "metadata": {},
     "output_type": "execute_result"
    }
   ],
   "source": [
    "df1['Rating']"
   ]
  },
  {
   "cell_type": "code",
   "execution_count": null,
   "metadata": {},
   "outputs": [],
   "source": []
  },
  {
   "cell_type": "code",
   "execution_count": null,
   "metadata": {},
   "outputs": [],
   "source": []
  },
  {
   "cell_type": "code",
   "execution_count": null,
   "metadata": {},
   "outputs": [],
   "source": []
  },
  {
   "cell_type": "code",
   "execution_count": null,
   "metadata": {},
   "outputs": [],
   "source": []
  }
 ],
 "metadata": {
  "kernelspec": {
   "display_name": "Python 3",
   "language": "python",
   "name": "python3"
  },
  "language_info": {
   "codemirror_mode": {
    "name": "ipython",
    "version": 3
   },
   "file_extension": ".py",
   "mimetype": "text/x-python",
   "name": "python",
   "nbconvert_exporter": "python",
   "pygments_lexer": "ipython3",
   "version": "3.10.5 (tags/v3.10.5:f377153, Jun  6 2022, 16:14:13) [MSC v.1929 64 bit (AMD64)]"
  },
  "orig_nbformat": 4,
  "vscode": {
   "interpreter": {
    "hash": "26de051ba29f2982a8de78e945f0abaf191376122a1563185a90213a26c5da77"
   }
  }
 },
 "nbformat": 4,
 "nbformat_minor": 2
}
